{
 "cells": [
  {
   "cell_type": "code",
   "execution_count": 12,
   "metadata": {},
   "outputs": [
    {
     "name": "stdout",
     "output_type": "stream",
     "text": [
      "{'c': [3, None], 'd': [5, 4], 'e': [None, 6]}\n"
     ]
    }
   ],
   "source": [
    "d1 = {\"a\": 1, \"b\": 2, \"c\": 3, \"d\": 5}\n",
    "d2 = {\"a\": 1, \"b\": 2, \"d\": 4, \"e\": 6}\n",
    "\n",
    "def dict_diff(d1, d2):\n",
    "    \n",
    "    total_keys = sorted( list(d1.keys() | d2.keys()) )\n",
    "    \n",
    "    diff_dic = {}\n",
    "    for k in total_keys:\n",
    "        if d1.get(k) != d2.get(k):\n",
    "            diff_dic[k] = [d1.get(k), d2.get(k)]\n",
    "    print(diff_dic)\n",
    "        \n",
    "dict_diff(d1, d2)\n",
    "    \n",
    "# 1. 取得 2個dict 裡面 總共有哪些 key\n",
    "# 2. 依序檢測 key\n",
    "#    a. d1 跟 d2 一模一樣  --> 略過\n",
    "#    b. d1, d2 key 一樣，但是 value 不一樣  --> 分別記錄 key: [value1, value2]\n",
    "#    c. d1, d2 完全不一樣，(其中一個有的key，另一個沒有)  --> 分別記錄 key: [None, value2] or key: [value1, None]\n",
    "# 3. print 出"
   ]
  },
  {
   "cell_type": "code",
   "execution_count": 13,
   "metadata": {},
   "outputs": [
    {
     "name": "stdout",
     "output_type": "stream",
     "text": [
      "1\n",
      "2\n",
      "3\n",
      "4\n",
      "5\n"
     ]
    }
   ],
   "source": [
    "a = {1, 2, 3, 4, 5}\n",
    "\n",
    "for i in a:\n",
    "    print(i)"
   ]
  },
  {
   "cell_type": "code",
   "execution_count": 10,
   "metadata": {},
   "outputs": [
    {
     "name": "stdout",
     "output_type": "stream",
     "text": [
      "None\n"
     ]
    }
   ],
   "source": [
    "d1 = {\"a\": 1, \"b\": 2, \"c\": 3, \"d\": 5}\n",
    "d2 = {\"a\": 1, \"b\": 2, \"d\": 4, \"e\": 6}\n",
    "\n",
    "\n",
    "# print(d1[\"adadadad\"])\n",
    "print(d1.get(\"adaddaad\"))\n",
    "\n",
    "# print(d1.keys())\n",
    "\n",
    "# print(d1.keys() | d2.keys())"
   ]
  },
  {
   "cell_type": "code",
   "execution_count": 17,
   "metadata": {},
   "outputs": [
    {
     "data": {
      "text/plain": [
       "str"
      ]
     },
     "execution_count": 17,
     "metadata": {},
     "output_type": "execute_result"
    }
   ],
   "source": [
    "num_oct = \"10\"  # 8進位，相當於十進位的 8\n",
    "\n",
    "type(      oct(  10  )       )\n",
    "\n"
   ]
  },
  {
   "cell_type": "code",
   "execution_count": 23,
   "metadata": {},
   "outputs": [
    {
     "name": "stdout",
     "output_type": "stream",
     "text": [
      "1234\n"
     ]
    }
   ],
   "source": [
    "num_typed = input(\"please type a number\")  # 100\n",
    "\n",
    "print(int(num_typed))\n"
   ]
  },
  {
   "cell_type": "code",
   "execution_count": 8,
   "metadata": {},
   "outputs": [
    {
     "name": "stdout",
     "output_type": "stream",
     "text": [
      "aeiou!\n"
     ]
    }
   ],
   "source": [
    "# 如果字首是 aeiou .....\n",
    "string = input(\"Please type a word:\")\n",
    "\n",
    "if string[0].upper() in [\"A\", \"E\", \"i\", \"o\", \"u\"]:\n",
    "    print(\"aeiou!\")\n",
    "    "
   ]
  },
  {
   "cell_type": "code",
   "execution_count": null,
   "metadata": {},
   "outputs": [],
   "source": [
    "字串.lower()"
   ]
  },
  {
   "cell_type": "code",
   "execution_count": 8,
   "metadata": {},
   "outputs": [
    {
     "name": "stdout",
     "output_type": "stream",
     "text": [
      "['a', 'c', 'd']\n"
     ]
    }
   ],
   "source": [
    "def strsort():\n",
    "    sth = input(\"type something: \")\n",
    "    l = list(sth)  # l == [\"a\", \"p\", \"p\", ...]\n",
    "    # print(l.sort())\n",
    "    l.sort()  # l 會被改變，l 會變成一個排序好的list\n",
    "    \n",
    "    print(l)\n",
    "    \n",
    "    \n",
    "    \n",
    "strsort()"
   ]
  },
  {
   "cell_type": "code",
   "execution_count": null,
   "metadata": {},
   "outputs": [],
   "source": [
    "陣列.sort()   # 標新立異!幹 跟大家就要不一樣"
   ]
  },
  {
   "cell_type": "code",
   "execution_count": 6,
   "metadata": {},
   "outputs": [
    {
     "name": "stdout",
     "output_type": "stream",
     "text": [
      "AZPOOPOO\n"
     ]
    }
   ],
   "source": [
    "sth = \"azpoopoo\"\n",
    "sth.upper()  # sth 不會被改變\n",
    "print(sth)"
   ]
  },
  {
   "cell_type": "code",
   "execution_count": 1,
   "metadata": {},
   "outputs": [
    {
     "name": "stdout",
     "output_type": "stream",
     "text": [
      "operator.itemgetter(2)\n"
     ]
    }
   ],
   "source": [
    "import operator\n",
    "\n",
    "print(operator.itemgetter(2))"
   ]
  },
  {
   "cell_type": "code",
   "execution_count": 5,
   "metadata": {},
   "outputs": [
    {
     "name": "stdout",
     "output_type": "stream",
     "text": [
      "{'Apple': 100}\n",
      "100\n"
     ]
    }
   ],
   "source": [
    "# a = {}\n",
    "a = {\"Apple\": 50}\n",
    "a[\"Apple\"] = 100\n",
    "\n",
    "print(a)\n",
    "\n",
    "print(a[\"Apple\"])\n"
   ]
  },
  {
   "cell_type": "code",
   "execution_count": 8,
   "metadata": {},
   "outputs": [
    {
     "name": "stdout",
     "output_type": "stream",
     "text": [
      "Apple\n",
      "Car\n",
      "Dog\n"
     ]
    }
   ],
   "source": [
    "# dict key: value (pair)\n",
    "\n",
    "my_dic = {\"Apple\": 50, \"Car\": 100, \"Dog\": 20}\n",
    "\n",
    "for i in my_dic:\n",
    "    print(i)\n",
    "\n"
   ]
  },
  {
   "cell_type": "code",
   "execution_count": null,
   "metadata": {},
   "outputs": [],
   "source": [
    "for i in range(3):  # 0,1,2 \n",
    "for i in [\"a\", \"b\", \"c\"]:  # a, b, c \n",
    "for line in f:  # f 文件裡的"
   ]
  },
  {
   "cell_type": "code",
   "execution_count": 14,
   "metadata": {},
   "outputs": [
    {
     "name": "stdout",
     "output_type": "stream",
     "text": [
      "Last line is me!!!!!!\n"
     ]
    }
   ],
   "source": [
    "with open(\"test_itv18.txt\") as f:\n",
    "    for line in f:\n",
    "        last_line = line\n",
    "    print(last_line)\n",
    "\n"
   ]
  },
  {
   "cell_type": "code",
   "execution_count": 5,
   "metadata": {},
   "outputs": [
    {
     "name": "stdout",
     "output_type": "stream",
     "text": [
      "            on_press: app.add_card()\n"
     ]
    }
   ],
   "source": [
    "with open(\"scroll_box.kv\", \"r\") as f:\n",
    "    for line in f:\n",
    "        last_line = line\n",
    "    \n",
    "    print(last_line)"
   ]
  },
  {
   "cell_type": "code",
   "execution_count": null,
   "metadata": {},
   "outputs": [],
   "source": []
  },
  {
   "cell_type": "code",
   "execution_count": 4,
   "metadata": {},
   "outputs": [
    {
     "name": "stdout",
     "output_type": "stream",
     "text": [
      "{'A': 100}\n"
     ]
    }
   ],
   "source": [
    "\"sssasas\".split(\"a\")\n",
    "d = {}\n",
    "d[\"A\"] = 100\n",
    "print(d)\n",
    "\n",
    "# {\"A\": 100}"
   ]
  },
  {
   "cell_type": "code",
   "execution_count": 5,
   "metadata": {},
   "outputs": [
    {
     "name": "stdout",
     "output_type": "stream",
     "text": [
      "{'root': '0', 'daemon': '1', 'bin': '2', 'sys': '3'}\n"
     ]
    }
   ],
   "source": [
    "def pwd_to_dict(filename):\n",
    "    pwd_dict = {}\n",
    "    with open(filename, \"r\") as file:\n",
    "        for line in file:\n",
    "            split_list = line.split(\":\")\n",
    "            # split_list[0], split_list[2]\n",
    "            pwd_dict[ split_list[0] ] = split_list[2]\n",
    "            \n",
    "    return pwd_dict\n",
    "\n",
    "print( pwd_to_dict(filename = \"pwd.txt\") )\n"
   ]
  },
  {
   "cell_type": "code",
   "execution_count": 37,
   "metadata": {},
   "outputs": [
    {
     "name": "stdout",
     "output_type": "stream",
     "text": [
      "132\n"
     ]
    }
   ],
   "source": [
    "filename = \"itw20.txt\"\n",
    "\n",
    "with open(filename, \"r\") as file:\n",
    "    words_list = []\n",
    "    ans_dict = {\"characters\": 0, \"Words\": 0, \"Unique words\": 0, \"Lines\": 0}\n",
    "    lines = len(file.readlines())\n",
    "    file.seek(0)\n",
    "    for line in file:\n",
    "        if line.split(\" \") != [\"\\n\"]:\n",
    "            words_list = words_list + line.split(\" \")\n",
    "            \n",
    "    for i in range(len(words_list)):\n",
    "        if words_list[i][-2:] == \".\\n\":\n",
    "            words_list[i] = words_list[i][:-2]\n",
    "        if words_list[i][-1] == \"!\":\n",
    "            words_list[i] = words_list[i][:-1]\n",
    "            \n",
    "    unique_word_set = set(words_list)\n",
    "    \n",
    "    ans_dict[\"Words\"] = len(words_list)\n",
    "    ans_dict[\"Unique words\"] = len(unique_word_set)\n",
    "    ans_dict[\"Lines\"] = lines\n",
    "    \n",
    "    # ===================================================\n",
    "    \n",
    "    file.seek(0)\n",
    "    words_list_2 = []\n",
    "    for line in file:\n",
    "        if line.split(\" \") != [\"\\n\"]:\n",
    "            words_list_2 = words_list_2 + line.split(\" \")\n",
    "            \n",
    "    for i in range(len(words_list_2)):\n",
    "        if words_list_2[i][-1] == \"\\n\":\n",
    "            words_list_2[i] = words_list_2[i][:-1]\n",
    "            \n",
    "    chars = 0        \n",
    "    for i in words_list_2:\n",
    "        chars += len(i)\n",
    "    \n",
    "    print(chars)\n",
    "            \n",
    "    \n",
    "    \n",
    "\n",
    "\n",
    "\n"
   ]
  },
  {
   "cell_type": "code",
   "execution_count": 35,
   "metadata": {},
   "outputs": [
    {
     "name": "stdout",
     "output_type": "stream",
     "text": [
      "6\n"
     ]
    }
   ],
   "source": [
    "l = \"abcdf.\"\n",
    "\n",
    "print(len(l))"
   ]
  },
  {
   "cell_type": "code",
   "execution_count": 8,
   "metadata": {},
   "outputs": [
    {
     "name": "stdout",
     "output_type": "stream",
     "text": [
      "['This', 'is', 'a', 'test', 'file', 'It', 'contains', '28', 'words', 'and', '20', 'different', 'words', 'It', 'also', 'contains', '164', 'characters', 'It', 'also', 'contains', '11', 'lines', 'It', 'is', 'also', 'self', 'referential.']\n",
      "referential.\n"
     ]
    }
   ],
   "source": [
    "def find_longest_word(filename):\n",
    "    words = []\n",
    "    with open(filename, \"r\") as file:\n",
    "        lines = file.readlines()\n",
    "        for l in lines:\n",
    "            temp = l.replace(\".\\n\", \"\").split(\" \")\n",
    "            words = words + temp\n",
    "        print(words)\n",
    "        \n",
    "        max_word = \"\"\n",
    "        for z in words:\n",
    "            if len(z) > len(max_word):\n",
    "                max_word = z\n",
    "        \n",
    "        return max_word\n",
    "        \n",
    "        \n",
    "ans = find_longest_word(\"itw20.txt\")\n",
    "print(ans)"
   ]
  },
  {
   "cell_type": "code",
   "execution_count": 1,
   "metadata": {},
   "outputs": [
    {
     "name": "stdout",
     "output_type": "stream",
     "text": [
      "strong\n"
     ]
    }
   ],
   "source": [
    "print(\"string\".replace(\".\", \"\"))\n",
    "\n",
    "\n"
   ]
  },
  {
   "cell_type": "code",
   "execution_count": 1,
   "metadata": {},
   "outputs": [
    {
     "name": "stdout",
     "output_type": "stream",
     "text": [
      "['root', 'x', '0', '0', 'root', '/root', '/bin/bash']\n",
      "['daemon', 'x', '1', '1', 'daemon', '/usr/sbin', '/usr/sbin/nologin']\n",
      "['bin', 'x', '2', '2', 'bin', '/bin', '/usr/sbin/nologin']\n",
      "['sys', 'x', '3', '3', 'sys', '/dev', '/usr/sbin/nologin']\n"
     ]
    }
   ],
   "source": [
    "import csv\n",
    "\n",
    "def pwd_to_csv(filename):\n",
    "    with open(filename, \"r\") as file:\n",
    "        csv_reader = csv.reader(file, delimiter=\":\")\n",
    "        for line in csv_reader:\n",
    "            print(line)\n",
    "            \n",
    "\n",
    "\n",
    "\n",
    "pwd_to_csv(\"pwd.txt\")"
   ]
  },
  {
   "cell_type": "code",
   "execution_count": 1,
   "metadata": {},
   "outputs": [
    {
     "name": "stdout",
     "output_type": "stream",
     "text": [
      "[1, 2, 5, 3, 4, 5, 5, 5]\n",
      "[1, 2, 5, 3, 4, 5, 5, 5]\n",
      "[1, 2, 3, 4, 5, 5, 5]\n",
      "[1, 2, 3, 4, 5, 5, 5]\n",
      "[1, 2, 3, 4, 5, 5]\n",
      "[1, 2, 3, 4, 5]\n",
      "ans: [1, 2, 3, 4, 5]\n"
     ]
    }
   ],
   "source": [
    "l = [1, 2, 5, 3, 4, 5, 5, 5]\n",
    "\n",
    "for i in l:\n",
    "    if i == 5:\n",
    "        l.remove(i)\n",
    "    print(l)\n",
    "\n",
    "print(\"ans:\", l)"
   ]
  },
  {
   "cell_type": "code",
   "execution_count": 15,
   "metadata": {},
   "outputs": [
    {
     "name": "stdout",
     "output_type": "stream",
     "text": [
      "There are 154 Characters!\n",
      "There are 28 Words!\n",
      "There are 19 Unique words!\n",
      "There are 11 Lines!\n"
     ]
    }
   ],
   "source": [
    "def word_count(filename):\n",
    "    ans_dict = {\"Characters\": 0, \"Words\": 0, \n",
    "                \"Unique words\": 0, \"Lines\": 0}\n",
    "    with open(filename, \"r\") as file:\n",
    "        # Lines\n",
    "        lines = len(file.readlines())\n",
    "        ans_dict[\"Lines\"] = lines\n",
    "        file.seek(0)\n",
    "        \n",
    "        line_list = file.readlines()  # []\n",
    "        \n",
    "        # Characters\n",
    "        total_str = \"\"\n",
    "        for i in line_list:\n",
    "            total_str = total_str + i.replace(\"\\n\", \"\")\n",
    "        characters = len(total_str)\n",
    "        ans_dict[\"Characters\"] = characters\n",
    "        \n",
    "        # Words\n",
    "        word_list = []\n",
    "        for i in line_list:\n",
    "            if i != \"\\n\":\n",
    "                t = i.replace(\".\", \"\").replace(\"!\", \"\").replace(\"\\n\", \"\").split(\" \")\n",
    "                word_list += t\n",
    "        words = len(word_list)\n",
    "        ans_dict[\"Words\"] = words\n",
    "        \n",
    "        # Unique words\n",
    "        u_words = len(set(word_list))\n",
    "        ans_dict[\"Unique words\"] = u_words\n",
    "        \n",
    "    # print answers\n",
    "    for k in ans_dict:\n",
    "        print(f'There are {ans_dict[k]} {k}!')\n",
    "        \n",
    "word_count(\"itw20.txt\")"
   ]
  },
  {
   "cell_type": "code",
   "execution_count": 2,
   "metadata": {},
   "outputs": [
    {
     "name": "stdout",
     "output_type": "stream",
     "text": [
      "temp: \n"
     ]
    }
   ],
   "source": [
    "i1 = \"This is a test file.\\n\"\n",
    "i2 = \"\\n\"\n",
    "\n",
    "temp = i2.replace(\"\\n\",\"\")\n",
    "print(\"temp:\", temp)\n",
    "\n",
    "if i != \"\\n\":\n",
    "    i2.replace(\"\\n\",\"\")\n",
    "\n"
   ]
  },
  {
   "cell_type": "code",
   "execution_count": 4,
   "metadata": {},
   "outputs": [
    {
     "name": "stdout",
     "output_type": "stream",
     "text": [
      "3.0\n"
     ]
    }
   ],
   "source": [
    "import numpy as np\n",
    "\n",
    "# avg()\n",
    "# np.mean()\n",
    "\n",
    "total_math = [1, 3, 5, 2, 4]\n",
    "\n",
    "print( np.mean(total_math) )"
   ]
  },
  {
   "cell_type": "code",
   "execution_count": 1,
   "metadata": {},
   "outputs": [
    {
     "name": "stdout",
     "output_type": "stream",
     "text": [
      "10, 20, 30, 40\n"
     ]
    },
    {
     "ename": "TypeError",
     "evalue": "print_sth() got multiple values for argument 'b'",
     "output_type": "error",
     "traceback": [
      "\u001b[1;31m---------------------------------------------------------------------------\u001b[0m",
      "\u001b[1;31mTypeError\u001b[0m                                 Traceback (most recent call last)",
      "\u001b[1;32m~\\AppData\\Local\\Temp/ipykernel_17524/1290036699.py\u001b[0m in \u001b[0;36m<module>\u001b[1;34m\u001b[0m\n\u001b[0;32m      4\u001b[0m \u001b[1;33m\u001b[0m\u001b[0m\n\u001b[0;32m      5\u001b[0m \u001b[0mprint_sth\u001b[0m\u001b[1;33m(\u001b[0m\u001b[1;36m10\u001b[0m\u001b[1;33m,\u001b[0m \u001b[1;36m20\u001b[0m\u001b[1;33m,\u001b[0m \u001b[1;36m30\u001b[0m\u001b[1;33m,\u001b[0m \u001b[1;36m40\u001b[0m\u001b[1;33m)\u001b[0m\u001b[1;33m\u001b[0m\u001b[1;33m\u001b[0m\u001b[0m\n\u001b[1;32m----> 6\u001b[1;33m \u001b[0mprint_sth\u001b[0m\u001b[1;33m(\u001b[0m\u001b[1;36m20\u001b[0m\u001b[1;33m,\u001b[0m \u001b[1;36m30\u001b[0m\u001b[1;33m,\u001b[0m \u001b[0mb\u001b[0m\u001b[1;33m=\u001b[0m\u001b[1;36m30\u001b[0m\u001b[1;33m,\u001b[0m \u001b[0md\u001b[0m\u001b[1;33m=\u001b[0m\u001b[1;36m20\u001b[0m\u001b[1;33m)\u001b[0m\u001b[1;33m\u001b[0m\u001b[1;33m\u001b[0m\u001b[0m\n\u001b[0m",
      "\u001b[1;31mTypeError\u001b[0m: print_sth() got multiple values for argument 'b'"
     ]
    }
   ],
   "source": [
    "def print_sth(a, b, c, d):\n",
    "    print(f'{a}, {b}, {c}, {d}')\n",
    "    \n",
    "    \n",
    "print_sth(10, 20, 30, 40)\n",
    "print_sth(20, 30, c=30, d=20)"
   ]
  },
  {
   "cell_type": "code",
   "execution_count": 20,
   "metadata": {},
   "outputs": [
    {
     "name": "stdout",
     "output_type": "stream",
     "text": [
      "*****\n",
      "****\n",
      "***\n",
      "**\n",
      "*\n"
     ]
    }
   ],
   "source": [
    "max_star = 133\n",
    "\n",
    "\n",
    "\n",
    "for s in range(5, 0, -1):\n",
    "    for i in range(s):\n",
    "        print(\"*\", end=\"\")\n",
    "    print(\"\")\n",
    "\n",
    "# 題目: 1~5, 5~1, 靠中 9, 7, 5...\n",
    "# 打法: 自由, 不能有 f'{:05s}', 不能有 乘\n",
    "# 進階 最高星數 使用者決定\n"
   ]
  },
  {
   "cell_type": "code",
   "execution_count": 1,
   "metadata": {},
   "outputs": [],
   "source": [
    "def prefix_cal(problem):\n",
    "    nums = problem.split(\" \")\n",
    "    op = nums[0]\n",
    "    num1 = nums[1]\n",
    "    num2 = nums[2]\n",
    "    \n",
    "    print(f'{num1} {op} {num2}')"
   ]
  },
  {
   "cell_type": "code",
   "execution_count": 7,
   "metadata": {},
   "outputs": [
    {
     "name": "stdout",
     "output_type": "stream",
     "text": [
      "0.6666666666666666\n"
     ]
    }
   ],
   "source": [
    "print(eval(\"2 / 3\"))"
   ]
  },
  {
   "cell_type": "code",
   "execution_count": 5,
   "metadata": {},
   "outputs": [
    {
     "name": "stdout",
     "output_type": "stream",
     "text": [
      "40 - 6\n"
     ]
    }
   ],
   "source": [
    "prefix_cal(\"- 40 6\")"
   ]
  },
  {
   "cell_type": "code",
   "execution_count": null,
   "metadata": {},
   "outputs": [],
   "source": []
  },
  {
   "cell_type": "code",
   "execution_count": null,
   "metadata": {},
   "outputs": [],
   "source": [
    "# 父函式與子涵式\n",
    "\n",
    "# 函式裡面又有函式:\n",
    "def father():\n",
    "    def son():\n",
    "\n",
    "    return son\n",
    "\n",
    "a = father()  # 這時候 a 是 son\n",
    "b = father()  # 這時候 a 是 son\n",
    "c = father()  # 這時候 a 是 son\n",
    "\n"
   ]
  },
  {
   "cell_type": "code",
   "execution_count": 7,
   "metadata": {},
   "outputs": [
    {
     "name": "stdout",
     "output_type": "stream",
     "text": [
      "b\n"
     ]
    }
   ],
   "source": [
    "import random\n",
    "\n",
    "def source_pwd(pw):\n",
    "    p = random.choice(pw)\n",
    "    return p\n",
    "\n",
    "pwd_gen = source_pwd(\"01234abc\")\n",
    "print(pwd_gen)"
   ]
  },
  {
   "cell_type": "code",
   "execution_count": 8,
   "metadata": {},
   "outputs": [],
   "source": [
    "import random\n",
    "\n",
    "def source_pwd(pw):\n",
    "    \n",
    "    def pwd_gen(pwd_len):\n",
    "        final_pwd = \"\"\n",
    "        for i in range(pwd_len):\n",
    "            a = random.choice(pw)\n",
    "            final_pwd += a\n",
    "        return final_pwd\n",
    "\n",
    "    return pwd_gen"
   ]
  },
  {
   "cell_type": "code",
   "execution_count": 18,
   "metadata": {},
   "outputs": [
    {
     "name": "stdout",
     "output_type": "stream",
     "text": [
      "c0a\n"
     ]
    }
   ],
   "source": [
    "pwd_gen = source_pwd(\"01234abc\")\n",
    "final_pwd = pwd_gen(3)\n",
    "\n",
    "print(final_pwd)"
   ]
  },
  {
   "cell_type": "code",
   "execution_count": null,
   "metadata": {},
   "outputs": [],
   "source": [
    "import random\n",
    "\n",
    "def set_password_source(source_code):\n",
    "    def password_gen(num_count):\n",
    "        output = \"\"\n",
    "        for i in range(num_count):\n",
    "            psw_code = random.choice(source_code)\n",
    "            output += psw_code\n",
    "        return output\n",
    "    return password_gen\n",
    "\n",
    "my_password_gen = set_password_source(\"0123456789abcdefghij\")  # my_password_gen 等於 password_gen\n",
    "print(my_password_gen(10))"
   ]
  },
  {
   "cell_type": "code",
   "execution_count": null,
   "metadata": {},
   "outputs": [],
   "source": [
    "(3/255, 138/255, 255/255, 1)"
   ]
  },
  {
   "cell_type": "code",
   "execution_count": null,
   "metadata": {},
   "outputs": [],
   "source": [
    "Beautiful is better than ugly.\n",
    "Explicit is better than implicit.\n",
    "Simple is better than complex.\n",
    "Complex is better than complicated.\n",
    "Flat is better than nested.\n",
    "Sparse is better than dense.\n",
    "Readability counts."
   ]
  }
 ],
 "metadata": {
  "kernelspec": {
   "display_name": "Python 3",
   "language": "python",
   "name": "python3"
  },
  "language_info": {
   "codemirror_mode": {
    "name": "ipython",
    "version": 3
   },
   "file_extension": ".py",
   "mimetype": "text/x-python",
   "name": "python",
   "nbconvert_exporter": "python",
   "pygments_lexer": "ipython3",
   "version": "3.9.7"
  }
 },
 "nbformat": 4,
 "nbformat_minor": 2
}
